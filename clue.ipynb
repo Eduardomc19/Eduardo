{
  "nbformat": 4,
  "nbformat_minor": 0,
  "metadata": {
    "colab": {
      "name": "clue.ipynb",
      "provenance": [],
      "collapsed_sections": []
    },
    "kernelspec": {
      "display_name": "Python 3",
      "name": "python3"
    },
    "language_info": {
      "name": "python"
    }
  },
  "cells": [
    {
      "cell_type": "code",
      "metadata": {
        "id": "9lbyT9q0RJnO"
      },
      "source": [
        "import random\n",
        "import os\n",
        "import time"
      ],
      "execution_count": null,
      "outputs": []
    },
    {
      "cell_type": "code",
      "metadata": {
        "id": "ZCMW2N4IfKyt"
      },
      "source": [
        "personajes = ['Chucky', 'Jason', 'Freddy', 'Pennywise', 'Ghostface']\n",
        "armas = ['Cuchillo', 'Machete', 'Pistola', 'Motosierra', 'Desarmador']\n",
        "lugares = ['Sala', 'Cocina', 'Baño', 'Cochera', 'Jardin']\n",
        "opciones = []\n",
        "auxpersonaje = [i for i in personajes]\n",
        "auxarma = [i for  i in armas]\n",
        "auxlugar = [i for i in lugares]"
      ],
      "execution_count": null,
      "outputs": []
    },
    {
      "cell_type": "code",
      "metadata": {
        "id": "BX4asDm6U82E"
      },
      "source": [
        "historias = [[], [], [], [], []]\n",
        "for i in range(5):\n",
        "  historias[i] = [personajes.pop(random.randint(0, len(personajes)-1)), armas.pop(random.randint(0, len(armas)-1)), lugares.pop(random.randint(0, len(lugares)-1))] "
      ],
      "execution_count": null,
      "outputs": []
    },
    {
      "cell_type": "code",
      "metadata": {
        "colab": {
          "base_uri": "https://localhost:8080/"
        },
        "id": "Ul0syGr_VK2L",
        "outputId": "6e3c1544-b218-40c3-b077-4e8917519c9e"
      },
      "source": [
        "historias"
      ],
      "execution_count": null,
      "outputs": [
        {
          "data": {
            "text/plain": [
              "[['Freddy', 'Cuchillo', 'Jardin'],\n",
              " ['Ghostface', 'Motosierra', 'Cochera'],\n",
              " ['Jason', 'Machete', 'Cocina'],\n",
              " ['Pennywise', 'Pistola', 'Sala'],\n",
              " ['Chucky', 'Desarmador', 'Baño']]"
            ]
          },
          "execution_count": 46,
          "metadata": {},
          "output_type": "execute_result"
        }
      ]
    },
    {
      "cell_type": "code",
      "metadata": {
        "colab": {
          "base_uri": "https://localhost:8080/"
        },
        "id": "wGUhQfL9VRUR",
        "outputId": "ea3dcadd-81b7-4d79-a74b-6a4be6244bfc"
      },
      "source": [
        "asesino = auxpersonaje[random.randint(0, len(auxpersonaje) - 1)]\n",
        "arma = auxarma[random.randint(0, len(auxarma) - 1)]\n",
        "lugar = auxlugar[random.randint(0, len(auxlugar) - 1)]\n",
        "\n",
        "with open('asesino.txt', 'w+') as f:\n",
        "  f.write(asesino + '\\n' + arma + '\\n' + lugar +  '\\n')\n",
        "\n",
        "historias.append([asesino, arma, lugar])\n",
        "historias"
      ],
      "execution_count": null,
      "outputs": [
        {
          "data": {
            "text/plain": [
              "[['Freddy', 'Cuchillo', 'Jardin'],\n",
              " ['Ghostface', 'Motosierra', 'Cochera'],\n",
              " ['Jason', 'Machete', 'Cocina'],\n",
              " ['Pennywise', 'Pistola', 'Sala'],\n",
              " ['Chucky', 'Desarmador', 'Baño'],\n",
              " ['Freddy', 'Desarmador', 'Sala']]"
            ]
          },
          "execution_count": 47,
          "metadata": {},
          "output_type": "execute_result"
        }
      ]
    },
    {
      "cell_type": "code",
      "metadata": {
        "id": "d6qE29npezwP"
      },
      "source": [
        "random.shuffle(historias)"
      ],
      "execution_count": null,
      "outputs": []
    },
    {
      "cell_type": "code",
      "metadata": {
        "colab": {
          "base_uri": "https://localhost:8080/"
        },
        "id": "LkeDulKJUYMk",
        "outputId": "687cf45c-fc39-4491-b34e-6a1aa29e754f"
      },
      "source": [
        "i = 0\n",
        "\n",
        "while i <= 4:\n",
        "  print (\"Escoge que se quiere investigar:\\n\")\n",
        "  print (\" 1. Personaje \\n 2. Arma \\n 3. Lugar\\n\")\n",
        "  opcion = int(input(\"Ingresar opcion: \"))\n",
        "\n",
        "  if (opcion == 1):\n",
        "    print(\"\\n\\t\\t\\t---LISTA DE PERSONAJES---\")\n",
        "    print(\"\\nEsta es la lista de los sospechosos de los cuales uno de ellos es el asesino\")\n",
        "    print(\"\\n 1. Chucky \\n 2. Jason \\n 3. Freddy \\n 4. Pennywise \\n 5. Ghostface\")\n",
        "    opc = int(input(\"\\nEscoge la pista de tu sospechoso:\"))\n",
        "    sus = [x for x in historias if auxpersonaje[opc - 1] in x]\n",
        "    print('{} fue visto en {} con un/aun {}'.format(sus[0][0], sus[0][2], sus[0][1]))\n",
        "    random.shuffle(historias)\n",
        "    pass\n",
        "\n",
        "  if (opcion == 2):\n",
        "    print (str(\"\\n\\t\\t\\t---LISTA DE ARMAS---\"))\n",
        "    print (\"\\nEsta es la lista de las armas de las cuales una de ellas fue utlizada por el asesino\")\n",
        "    print (\"\\n 1. Cuchillo \\n 2. Machete \\n 3. Pistola \\n 4. Motosierra \\n 5. Desarmador\")\n",
        "    opc = int(input(\"\\nEscoge la pista de la arma sospechosa:\"))\n",
        "    sus = [x for x in historias if auxarma[opc - 1] in x]\n",
        "    print('{} fue visto en {} con donde estaba la arma {}'.format(sus[0][0], sus[0][2], sus[0][1]))\n",
        "    random.shuffle(historias)\n",
        "    pass \n",
        "    \n",
        "  if (opcion == 3):\n",
        "    print (str(\"\\n\\t\\t\\t---LISTA DE LUGARES---\"))\n",
        "    print (\"\\nEsta es la lista de las armas de las cuales una de ellas fue utlizada por el asesino\")\n",
        "    print (\"\\n 1. Sala \\n 2. Cocina \\n 3. Baño \\n 4. Cochera \\n 5. Jardin\")\n",
        "    opc = int(input(\"\\nEscoge la pista de el lugar sospochoso:\"))\n",
        "    sus = [x for x in historias if auxlugar[opc - 1] in x]\n",
        "    print('en {} se vio a {} pasear con un/aun {}'.format(sus[0][2], sus[0][0], sus[0][1]))\n",
        "    random.shuffle(historias)\n",
        "    pass\n",
        "\n",
        "  opc = 0\n",
        "  sus = []\n",
        "  i += 1"
      ],
      "execution_count": null,
      "outputs": [
        {
          "metadata": {
            "tags": null
          },
          "name": "stdout",
          "output_type": "stream",
          "text": [
            "Escoge que se quiere investigar:\n",
            "\n",
            " 1. Personaje \n",
            " 2. Arma \n",
            " 3. Lugar\n",
            "\n"
          ]
        }
      ]
    },
    {
      "cell_type": "code",
      "metadata": {
        "id": "V23eC_V5UyZz"
      },
      "source": [
        "print(\"Quien crees que sea el asesino?:\")\n",
        "asesino = tuple(input()) \n",
        "finalasesino = [auxpersonaje[int(asesino[0])], auxarma[int(asesino[1])], auxlugar[int(asesino[2])]]\n",
        "finalasesino\n",
        "\n",
        "if finalasesino == asesino():\n",
        "  print('Felicidades, ganaste, encontraste al asesino')\n",
        "else:\n",
        "  print('Perdiste xdxdxdxdcxx')\n"
      ],
      "execution_count": null,
      "outputs": []
    },
    {
      "cell_type": "code",
      "metadata": {
        "id": "_JTqeHd1U0uR"
      },
      "source": [
        "def asesino():\n",
        "    with open('culpable.txt', 'r+') as f:\n",
        "        return [i[:-1] for i in f.readlines()]"
      ],
      "execution_count": null,
      "outputs": []
    }
  ]
}